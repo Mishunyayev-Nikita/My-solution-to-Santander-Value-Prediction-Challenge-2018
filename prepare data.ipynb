{
 "cells": [
  {
   "cell_type": "code",
   "execution_count": 1,
   "metadata": {
    "collapsed": true
   },
   "outputs": [],
   "source": [
    "import numpy as np\n",
    "import pandas as pd\n",
    "\n",
    "from scipy.stats import skew, kurtosis\n",
    "\n",
    "import os\n",
    "import gc\n",
    "\n",
    "#pd.set_option('max_columns', None)"
   ]
  },
  {
   "cell_type": "code",
   "execution_count": 2,
   "metadata": {
    "collapsed": true
   },
   "outputs": [],
   "source": [
    "PATH_TO_DATA = ('D:/Py/DataFrames/Santander_Value_Prediction_Challenge(KAGGLE)/')"
   ]
  },
  {
   "cell_type": "code",
   "execution_count": 3,
   "metadata": {
    "collapsed": true
   },
   "outputs": [],
   "source": [
    "def del_id_and_target(X):\n",
    "    if 'target' in X.columns:\n",
    "        data = X.drop(['ID', 'target'], axis=1)\n",
    "    else:\n",
    "        data = X.drop(['ID'], axis=1)\n",
    "    return data"
   ]
  },
  {
   "cell_type": "code",
   "execution_count": 4,
   "metadata": {
    "collapsed": true
   },
   "outputs": [],
   "source": [
    "train_df = pd.read_csv(os.path.join(PATH_TO_DATA, 'input/train.csv'))\n",
    "test_df = pd.read_csv(os.path.join(PATH_TO_DATA, 'input/test.csv'))"
   ]
  },
  {
   "cell_type": "markdown",
   "metadata": {},
   "source": [
    "## Info"
   ]
  },
  {
   "cell_type": "code",
   "execution_count": 5,
   "metadata": {},
   "outputs": [
    {
     "data": {
      "text/html": [
       "<div>\n",
       "<style scoped>\n",
       "    .dataframe tbody tr th:only-of-type {\n",
       "        vertical-align: middle;\n",
       "    }\n",
       "\n",
       "    .dataframe tbody tr th {\n",
       "        vertical-align: top;\n",
       "    }\n",
       "\n",
       "    .dataframe thead th {\n",
       "        text-align: right;\n",
       "    }\n",
       "</style>\n",
       "<table border=\"1\" class=\"dataframe\">\n",
       "  <thead>\n",
       "    <tr style=\"text-align: right;\">\n",
       "      <th></th>\n",
       "      <th>ID</th>\n",
       "      <th>target</th>\n",
       "      <th>48df886f9</th>\n",
       "      <th>0deb4b6a8</th>\n",
       "      <th>34b15f335</th>\n",
       "      <th>a8cb14b00</th>\n",
       "      <th>2f0771a37</th>\n",
       "      <th>30347e683</th>\n",
       "      <th>d08d1fbe3</th>\n",
       "      <th>6ee66e115</th>\n",
       "      <th>...</th>\n",
       "      <th>3ecc09859</th>\n",
       "      <th>9281abeea</th>\n",
       "      <th>8675bec0b</th>\n",
       "      <th>3a13ed79a</th>\n",
       "      <th>f677d4d13</th>\n",
       "      <th>71b203550</th>\n",
       "      <th>137efaa80</th>\n",
       "      <th>fb36b89d9</th>\n",
       "      <th>7e293fbaf</th>\n",
       "      <th>9fc776466</th>\n",
       "    </tr>\n",
       "  </thead>\n",
       "  <tbody>\n",
       "    <tr>\n",
       "      <th>0</th>\n",
       "      <td>000d6aaf2</td>\n",
       "      <td>38000000.0</td>\n",
       "      <td>0.0</td>\n",
       "      <td>0</td>\n",
       "      <td>0.0</td>\n",
       "      <td>0</td>\n",
       "      <td>0</td>\n",
       "      <td>0</td>\n",
       "      <td>0</td>\n",
       "      <td>0</td>\n",
       "      <td>...</td>\n",
       "      <td>0.0</td>\n",
       "      <td>0.0</td>\n",
       "      <td>0.0</td>\n",
       "      <td>0</td>\n",
       "      <td>0</td>\n",
       "      <td>0</td>\n",
       "      <td>0</td>\n",
       "      <td>0</td>\n",
       "      <td>0</td>\n",
       "      <td>0</td>\n",
       "    </tr>\n",
       "    <tr>\n",
       "      <th>1</th>\n",
       "      <td>000fbd867</td>\n",
       "      <td>600000.0</td>\n",
       "      <td>0.0</td>\n",
       "      <td>0</td>\n",
       "      <td>0.0</td>\n",
       "      <td>0</td>\n",
       "      <td>0</td>\n",
       "      <td>0</td>\n",
       "      <td>0</td>\n",
       "      <td>0</td>\n",
       "      <td>...</td>\n",
       "      <td>0.0</td>\n",
       "      <td>0.0</td>\n",
       "      <td>0.0</td>\n",
       "      <td>0</td>\n",
       "      <td>0</td>\n",
       "      <td>0</td>\n",
       "      <td>0</td>\n",
       "      <td>0</td>\n",
       "      <td>0</td>\n",
       "      <td>0</td>\n",
       "    </tr>\n",
       "    <tr>\n",
       "      <th>2</th>\n",
       "      <td>0027d6b71</td>\n",
       "      <td>10000000.0</td>\n",
       "      <td>0.0</td>\n",
       "      <td>0</td>\n",
       "      <td>0.0</td>\n",
       "      <td>0</td>\n",
       "      <td>0</td>\n",
       "      <td>0</td>\n",
       "      <td>0</td>\n",
       "      <td>0</td>\n",
       "      <td>...</td>\n",
       "      <td>0.0</td>\n",
       "      <td>0.0</td>\n",
       "      <td>0.0</td>\n",
       "      <td>0</td>\n",
       "      <td>0</td>\n",
       "      <td>0</td>\n",
       "      <td>0</td>\n",
       "      <td>0</td>\n",
       "      <td>0</td>\n",
       "      <td>0</td>\n",
       "    </tr>\n",
       "  </tbody>\n",
       "</table>\n",
       "<p>3 rows × 4993 columns</p>\n",
       "</div>"
      ],
      "text/plain": [
       "          ID      target  48df886f9  0deb4b6a8  34b15f335  a8cb14b00  \\\n",
       "0  000d6aaf2  38000000.0        0.0          0        0.0          0   \n",
       "1  000fbd867    600000.0        0.0          0        0.0          0   \n",
       "2  0027d6b71  10000000.0        0.0          0        0.0          0   \n",
       "\n",
       "   2f0771a37  30347e683  d08d1fbe3  6ee66e115    ...      3ecc09859  \\\n",
       "0          0          0          0          0    ...            0.0   \n",
       "1          0          0          0          0    ...            0.0   \n",
       "2          0          0          0          0    ...            0.0   \n",
       "\n",
       "   9281abeea  8675bec0b  3a13ed79a  f677d4d13  71b203550  137efaa80  \\\n",
       "0        0.0        0.0          0          0          0          0   \n",
       "1        0.0        0.0          0          0          0          0   \n",
       "2        0.0        0.0          0          0          0          0   \n",
       "\n",
       "   fb36b89d9  7e293fbaf  9fc776466  \n",
       "0          0          0          0  \n",
       "1          0          0          0  \n",
       "2          0          0          0  \n",
       "\n",
       "[3 rows x 4993 columns]"
      ]
     },
     "execution_count": 5,
     "metadata": {},
     "output_type": "execute_result"
    }
   ],
   "source": [
    "train_df.head(3)"
   ]
  },
  {
   "cell_type": "code",
   "execution_count": 6,
   "metadata": {},
   "outputs": [
    {
     "data": {
      "text/html": [
       "<div>\n",
       "<style scoped>\n",
       "    .dataframe tbody tr th:only-of-type {\n",
       "        vertical-align: middle;\n",
       "    }\n",
       "\n",
       "    .dataframe tbody tr th {\n",
       "        vertical-align: top;\n",
       "    }\n",
       "\n",
       "    .dataframe thead th {\n",
       "        text-align: right;\n",
       "    }\n",
       "</style>\n",
       "<table border=\"1\" class=\"dataframe\">\n",
       "  <thead>\n",
       "    <tr style=\"text-align: right;\">\n",
       "      <th></th>\n",
       "      <th>ID</th>\n",
       "      <th>48df886f9</th>\n",
       "      <th>0deb4b6a8</th>\n",
       "      <th>34b15f335</th>\n",
       "      <th>a8cb14b00</th>\n",
       "      <th>2f0771a37</th>\n",
       "      <th>30347e683</th>\n",
       "      <th>d08d1fbe3</th>\n",
       "      <th>6ee66e115</th>\n",
       "      <th>20aa07010</th>\n",
       "      <th>...</th>\n",
       "      <th>3ecc09859</th>\n",
       "      <th>9281abeea</th>\n",
       "      <th>8675bec0b</th>\n",
       "      <th>3a13ed79a</th>\n",
       "      <th>f677d4d13</th>\n",
       "      <th>71b203550</th>\n",
       "      <th>137efaa80</th>\n",
       "      <th>fb36b89d9</th>\n",
       "      <th>7e293fbaf</th>\n",
       "      <th>9fc776466</th>\n",
       "    </tr>\n",
       "  </thead>\n",
       "  <tbody>\n",
       "    <tr>\n",
       "      <th>0</th>\n",
       "      <td>000137c73</td>\n",
       "      <td>0.0</td>\n",
       "      <td>0.0</td>\n",
       "      <td>0.0</td>\n",
       "      <td>0.0</td>\n",
       "      <td>0.0</td>\n",
       "      <td>0.0</td>\n",
       "      <td>0.0</td>\n",
       "      <td>0.0</td>\n",
       "      <td>0.0</td>\n",
       "      <td>...</td>\n",
       "      <td>0.0</td>\n",
       "      <td>0.0</td>\n",
       "      <td>0.0</td>\n",
       "      <td>0.0</td>\n",
       "      <td>0.0</td>\n",
       "      <td>0.0</td>\n",
       "      <td>0.0</td>\n",
       "      <td>0.0</td>\n",
       "      <td>0.0</td>\n",
       "      <td>0.0</td>\n",
       "    </tr>\n",
       "    <tr>\n",
       "      <th>1</th>\n",
       "      <td>00021489f</td>\n",
       "      <td>0.0</td>\n",
       "      <td>0.0</td>\n",
       "      <td>0.0</td>\n",
       "      <td>0.0</td>\n",
       "      <td>0.0</td>\n",
       "      <td>0.0</td>\n",
       "      <td>0.0</td>\n",
       "      <td>0.0</td>\n",
       "      <td>0.0</td>\n",
       "      <td>...</td>\n",
       "      <td>0.0</td>\n",
       "      <td>0.0</td>\n",
       "      <td>0.0</td>\n",
       "      <td>0.0</td>\n",
       "      <td>0.0</td>\n",
       "      <td>0.0</td>\n",
       "      <td>0.0</td>\n",
       "      <td>0.0</td>\n",
       "      <td>0.0</td>\n",
       "      <td>0.0</td>\n",
       "    </tr>\n",
       "    <tr>\n",
       "      <th>2</th>\n",
       "      <td>0004d7953</td>\n",
       "      <td>0.0</td>\n",
       "      <td>0.0</td>\n",
       "      <td>0.0</td>\n",
       "      <td>0.0</td>\n",
       "      <td>0.0</td>\n",
       "      <td>0.0</td>\n",
       "      <td>0.0</td>\n",
       "      <td>0.0</td>\n",
       "      <td>0.0</td>\n",
       "      <td>...</td>\n",
       "      <td>0.0</td>\n",
       "      <td>0.0</td>\n",
       "      <td>0.0</td>\n",
       "      <td>0.0</td>\n",
       "      <td>0.0</td>\n",
       "      <td>0.0</td>\n",
       "      <td>0.0</td>\n",
       "      <td>0.0</td>\n",
       "      <td>0.0</td>\n",
       "      <td>0.0</td>\n",
       "    </tr>\n",
       "  </tbody>\n",
       "</table>\n",
       "<p>3 rows × 4992 columns</p>\n",
       "</div>"
      ],
      "text/plain": [
       "          ID  48df886f9  0deb4b6a8  34b15f335  a8cb14b00  2f0771a37  \\\n",
       "0  000137c73        0.0        0.0        0.0        0.0        0.0   \n",
       "1  00021489f        0.0        0.0        0.0        0.0        0.0   \n",
       "2  0004d7953        0.0        0.0        0.0        0.0        0.0   \n",
       "\n",
       "   30347e683  d08d1fbe3  6ee66e115  20aa07010    ...      3ecc09859  \\\n",
       "0        0.0        0.0        0.0        0.0    ...            0.0   \n",
       "1        0.0        0.0        0.0        0.0    ...            0.0   \n",
       "2        0.0        0.0        0.0        0.0    ...            0.0   \n",
       "\n",
       "   9281abeea  8675bec0b  3a13ed79a  f677d4d13  71b203550  137efaa80  \\\n",
       "0        0.0        0.0        0.0        0.0        0.0        0.0   \n",
       "1        0.0        0.0        0.0        0.0        0.0        0.0   \n",
       "2        0.0        0.0        0.0        0.0        0.0        0.0   \n",
       "\n",
       "   fb36b89d9  7e293fbaf  9fc776466  \n",
       "0        0.0        0.0        0.0  \n",
       "1        0.0        0.0        0.0  \n",
       "2        0.0        0.0        0.0  \n",
       "\n",
       "[3 rows x 4992 columns]"
      ]
     },
     "execution_count": 6,
     "metadata": {},
     "output_type": "execute_result"
    }
   ],
   "source": [
    "test_df.head(3)"
   ]
  },
  {
   "cell_type": "code",
   "execution_count": 7,
   "metadata": {},
   "outputs": [
    {
     "name": "stdout",
     "output_type": "stream",
     "text": [
      "Train shape: (4459, 4993)\n",
      "Test shape: (49342, 4992)\n"
     ]
    }
   ],
   "source": [
    "print('Train shape:', train_df.shape)\n",
    "print('Test shape:', test_df.shape)"
   ]
  },
  {
   "cell_type": "code",
   "execution_count": 8,
   "metadata": {},
   "outputs": [
    {
     "name": "stdout",
     "output_type": "stream",
     "text": [
      "<class 'pandas.core.frame.DataFrame'>\n",
      "RangeIndex: 4459 entries, 0 to 4458\n",
      "Columns: 4993 entries, ID to 9fc776466\n",
      "dtypes: float64(1845), int64(3147), object(1)\n",
      "memory usage: 169.9+ MB\n"
     ]
    }
   ],
   "source": [
    "train_df.info()"
   ]
  },
  {
   "cell_type": "code",
   "execution_count": 9,
   "metadata": {},
   "outputs": [
    {
     "name": "stdout",
     "output_type": "stream",
     "text": [
      "<class 'pandas.core.frame.DataFrame'>\n",
      "RangeIndex: 49342 entries, 0 to 49341\n",
      "Columns: 4992 entries, ID to 9fc776466\n",
      "dtypes: float64(4991), object(1)\n",
      "memory usage: 1.8+ GB\n"
     ]
    }
   ],
   "source": [
    "test_df.info()"
   ]
  },
  {
   "cell_type": "markdown",
   "metadata": {},
   "source": [
    "## Checking missing values"
   ]
  },
  {
   "cell_type": "code",
   "execution_count": 10,
   "metadata": {},
   "outputs": [
    {
     "name": "stdout",
     "output_type": "stream",
     "text": [
      "256\n"
     ]
    }
   ],
   "source": [
    "constans_columns = train_df.loc[:, (train_df == train_df.iloc[0]).all()].columns.tolist()\n",
    "print(len(constans_columns))"
   ]
  },
  {
   "cell_type": "code",
   "execution_count": 11,
   "metadata": {
    "collapsed": true
   },
   "outputs": [],
   "source": [
    "def find_too_freq_values(threshold=0.98, constant_value=0):\n",
    "    cols_with_too_freq_values = []\n",
    "    for column in train_df.columns:\n",
    "        counts = train_df[column].value_counts()\n",
    "        try:\n",
    "            counts[constant_value]\n",
    "        except KeyError:\n",
    "            continue\n",
    "        value_fraction = counts[constant_value] / len(train_df)\n",
    "        if value_fraction >= threshold:\n",
    "            cols_with_too_freq_values.append(column)\n",
    "            \n",
    "    return cols_with_too_freq_values"
   ]
  },
  {
   "cell_type": "code",
   "execution_count": 12,
   "metadata": {},
   "outputs": [
    {
     "name": "stdout",
     "output_type": "stream",
     "text": [
      "2870\n",
      "Wall time: 6.72 s\n"
     ]
    }
   ],
   "source": [
    "%%time\n",
    "cols_with_too_freq_values = find_too_freq_values()\n",
    "print(len(cols_with_too_freq_values))"
   ]
  },
  {
   "cell_type": "code",
   "execution_count": 13,
   "metadata": {},
   "outputs": [
    {
     "name": "stdout",
     "output_type": "stream",
     "text": [
      "2870\n"
     ]
    }
   ],
   "source": [
    "cols_to_remove = list(set(constans_columns) | set(cols_with_too_freq_values))\n",
    "print(len(cols_to_remove))"
   ]
  },
  {
   "cell_type": "code",
   "execution_count": 14,
   "metadata": {
    "collapsed": true
   },
   "outputs": [],
   "source": [
    "cols_to_use = test_df.columns.tolist()[1:] # Remove \"ID\"\n",
    "cols_to_use = [x for x in cols_to_use if x not in cols_to_remove]"
   ]
  },
  {
   "cell_type": "code",
   "execution_count": 15,
   "metadata": {
    "collapsed": true
   },
   "outputs": [],
   "source": [
    "train_df = train_df[cols_to_use + ['ID', 'target']]\n",
    "test_df = test_df[cols_to_use + ['ID']]"
   ]
  },
  {
   "cell_type": "code",
   "execution_count": 16,
   "metadata": {},
   "outputs": [
    {
     "name": "stdout",
     "output_type": "stream",
     "text": [
      "Threshold 0.98 freq. values\n",
      "Train: (4459, 2123)\n",
      "Test:  (49342, 2122)\n"
     ]
    }
   ],
   "source": [
    "print('Threshold 0.98 freq. values')\n",
    "print('Train:', train_df.shape)\n",
    "print('Test: ', test_df.shape)"
   ]
  },
  {
   "cell_type": "code",
   "execution_count": 17,
   "metadata": {
    "collapsed": true
   },
   "outputs": [],
   "source": [
    "train_df.to_csv(os.path.join(PATH_TO_DATA, 'input/train_threshold_098.csv'), index=False)\n",
    "test_df.to_csv(os.path.join(PATH_TO_DATA, 'input/test_threshold_098.csv'), index=False)"
   ]
  },
  {
   "cell_type": "markdown",
   "metadata": {},
   "source": [
    "## Aggregations"
   ]
  },
  {
   "cell_type": "code",
   "execution_count": 5,
   "metadata": {
    "collapsed": true
   },
   "outputs": [],
   "source": [
    "# READ\n",
    "train_df = pd.read_csv(os.path.join(PATH_TO_DATA, 'input/train_threshold_098.csv'))\n",
    "test_df = pd.read_csv(os.path.join(PATH_TO_DATA, 'input/test_threshold_098.csv'))"
   ]
  },
  {
   "cell_type": "code",
   "execution_count": 14,
   "metadata": {
    "collapsed": true
   },
   "outputs": [],
   "source": [
    "def aggregate_row(row):\n",
    "    non_zero_values = row.iloc[row.nonzero()]\n",
    "    if len(non_zero_values.value_counts())>1:\n",
    "        aggs = {'non_zero_min': non_zero_values.min(),\n",
    "                'non_zero_max': non_zero_values.max(),\n",
    "                'non_zero_mean': non_zero_values.mean(),\n",
    "                'non_zero_median': non_zero_values.median(),\n",
    "                'non_zero_sum': non_zero_values.sum(),\n",
    "                'non_zero_std': non_zero_values.std(),\n",
    "                'non_zero_skewness': skew(non_zero_values),\n",
    "                'non_zero_kurtosis': kurtosis(non_zero_values),\n",
    "                'non_zero_q1': np.percentile(non_zero_values, q=25),\n",
    "                'non_zero_q3': np.percentile(non_zero_values, q=75),\n",
    "                'non_zero_log_min': np.log1p(non_zero_values.astype('float64')).min(),\n",
    "                'non_zero_log_max': np.log1p(non_zero_values.astype('float64')).max(),\n",
    "                'non_zero_log_mean': np.log1p(non_zero_values.astype('float64')).mean(),\n",
    "                'non_zero_log_median': np.log1p(non_zero_values.astype('float64')).median(),\n",
    "                'non_zero_log_sum': np.log1p(non_zero_values.astype('float64')).sum(),\n",
    "                'non_zero_log_std': np.log1p(non_zero_values.astype('float64')).std(),\n",
    "                'non_zero_log_skewness': skew(np.log1p(non_zero_values.astype('float64'))),\n",
    "                'non_zero_log_kurtosis':  kurtosis(np.log1p(non_zero_values.astype('float64'))) ,\n",
    "                'non_zero_log_q1': np.percentile(np.log1p(non_zero_values.astype('float64')), q=25),\n",
    "                'non_zero_log_q3': np.percentile(np.log1p(non_zero_values.astype('float64')), q=75),\n",
    "                'non_zero_count': non_zero_values.count(),\n",
    "                'non_zero_fraction': non_zero_values.count() / row.count()\n",
    "                }\n",
    "    else: \n",
    "        aggs = {'non_zero_min': np.nan,\n",
    "                'non_zero_max': np.nan,\n",
    "                'non_zero_mean': np.nan,\n",
    "                'non_zero_median': np.nan,\n",
    "                'non_zero_sum': np.nan,\n",
    "                'non_zero_std': np.nan, \n",
    "                'non_zero_skewness': np.nan,\n",
    "                'non_zero_kurtosis': np.nan,\n",
    "                'non_zero_q1': np.nan, \n",
    "                'non_zero_q3': np.nan,\n",
    "                'non_zero_log_min': np.nan,\n",
    "                'non_zero_log_max': np.nan, \n",
    "                'non_zero_log_mean': np.nan, \n",
    "                'non_zero_log_median': np.nan,\n",
    "                'non_zero_log_sum': np.nan,\n",
    "                'non_zero_log_std': np.nan, \n",
    "                'non_zero_log_skewness': np.nan,\n",
    "                'non_zero_log_kurtosis': np.nan, \n",
    "                'non_zero_log_q1': np.nan,\n",
    "                'non_zero_log_q3': np.nan,\n",
    "                'non_zero_count': 0,\n",
    "                'non_zero_fraction': 0\n",
    "                }\n",
    "            \n",
    "    return pd.Series(aggs)"
   ]
  },
  {
   "cell_type": "code",
   "execution_count": 16,
   "metadata": {},
   "outputs": [
    {
     "name": "stdout",
     "output_type": "stream",
     "text": [
      "Wall time: 6min 53s\n"
     ]
    }
   ],
   "source": [
    "%%time\n",
    "train_df_with_row_statistic = del_id_and_target(train_df).apply(aggregate_row, axis=1)\n",
    "test_df_with_row_statistic = del_id_and_target(test_df).apply(aggregate_row, axis=1)"
   ]
  },
  {
   "cell_type": "code",
   "execution_count": 17,
   "metadata": {
    "collapsed": true
   },
   "outputs": [],
   "source": [
    "def dummies_missing(X, missing_value=0):\n",
    "    missing_mask = np.where(X.values == missing_value, True, False)\n",
    "    missing_columns = [f'{col}_is_missing' for col in X.columns]\n",
    "    X_is_missing = pd.DataFrame(missing_mask.astype(int), columns=missing_columns)\n",
    "    X = X.join(X_is_missing)\n",
    "\n",
    "    return X"
   ]
  },
  {
   "cell_type": "code",
   "execution_count": 18,
   "metadata": {},
   "outputs": [
    {
     "name": "stdout",
     "output_type": "stream",
     "text": [
      "Wall time: 3.03 s\n"
     ]
    }
   ],
   "source": [
    "%%time\n",
    "train_df_binarized = dummies_missing(del_id_and_target(train_df))\n",
    "test_df_binarized = dummies_missing(del_id_and_target(test_df))"
   ]
  },
  {
   "cell_type": "code",
   "execution_count": 19,
   "metadata": {
    "collapsed": true
   },
   "outputs": [],
   "source": [
    "# JOINING Datasets\n",
    "train_df_with_row_statistic = train_df_with_row_statistic.join(train_df_binarized)\n",
    "test_df_with_row_statistic = test_df_with_row_statistic.join(test_df_binarized)"
   ]
  },
  {
   "cell_type": "code",
   "execution_count": 23,
   "metadata": {
    "collapsed": true
   },
   "outputs": [],
   "source": [
    "train_df_with_row_statistic.to_csv(os.path.join(PATH_TO_DATA, 'train_with_row_statistic_and_bin_thresh098.csv'), index=False)\n",
    "test_df_with_row_statistic.to_csv(os.path.join(PATH_TO_DATA, 'test_with_row_statistic_and_bin_thresh098.csv'), index=False)"
   ]
  },
  {
   "cell_type": "markdown",
   "metadata": {
    "collapsed": true
   },
   "source": [
    "## Create space reduction features"
   ]
  },
  {
   "cell_type": "code",
   "execution_count": 18,
   "metadata": {
    "collapsed": true
   },
   "outputs": [],
   "source": [
    "from sklearn.decomposition import PCA, TruncatedSVD, FastICA, FactorAnalysis\n",
    "from sklearn.random_projection import SparseRandomProjection, GaussianRandomProjection"
   ]
  },
  {
   "cell_type": "code",
   "execution_count": 19,
   "metadata": {
    "collapsed": true
   },
   "outputs": [],
   "source": [
    "feat_extractors_dict = {\n",
    "    'pca': PCA(n_components=500, random_state=44),\n",
    "    'tsvd': TruncatedSVD(n_components=50, n_iter=10, random_state=44),\n",
    "    'fa': FactorAnalysis(n_components=50, random_state=44),\n",
    "    'srp': SparseRandomProjection(n_components=50, random_state=44),\n",
    "    'grp': GaussianRandomProjection(n_components=50, eps=0.1, random_state=44)\n",
    "}"
   ]
  },
  {
   "cell_type": "code",
   "execution_count": 20,
   "metadata": {
    "collapsed": true
   },
   "outputs": [],
   "source": [
    "def create_dim_reduction_feats(df, train=False):\n",
    "    full_X_space_reduction = []\n",
    "    all_cols = []\n",
    "    \n",
    "    for k, v in feat_extractors_dict.items():\n",
    "        \n",
    "        if train:\n",
    "            print(f'Process train {k}')\n",
    "            X_space_reduction = v.fit_transform(df)\n",
    "        else:\n",
    "            print(f'Process {k}')\n",
    "            X_space_reduction = v.transform(df)\n",
    "            \n",
    "        n_components = X_space_reduction.shape[1]\n",
    "        cols = [str(k) + f'{i}' for i in range(n_components)]\n",
    "        all_cols += cols\n",
    "            \n",
    "        if len(full_X_space_reduction) == 0:\n",
    "            full_X_space_reduction = X_space_reduction\n",
    "        else:\n",
    "            full_X_space_reduction = np.hstack((full_X_space_reduction, X_space_reduction))\n",
    "    \n",
    "    new_df = pd.DataFrame(full_X_space_reduction, columns=all_cols, index=df.index)           \n",
    "    return new_df"
   ]
  },
  {
   "cell_type": "code",
   "execution_count": 21,
   "metadata": {},
   "outputs": [
    {
     "name": "stdout",
     "output_type": "stream",
     "text": [
      "Process train pca\n",
      "Process train tsvd\n",
      "Process train fa\n",
      "Process train srp\n",
      "Process train grp\n",
      "Process pca\n",
      "Process tsvd\n",
      "Process fa\n",
      "Process srp\n",
      "Process grp\n",
      "Wall time: 19.7 s\n"
     ]
    }
   ],
   "source": [
    "%%time\n",
    "train_space_reduction = create_dim_reduction_feats(del_id_and_target(train_df), train=True)\n",
    "test_space_reduction = create_dim_reduction_feats(del_id_and_target(test_df))"
   ]
  },
  {
   "cell_type": "code",
   "execution_count": 22,
   "metadata": {},
   "outputs": [
    {
     "data": {
      "text/html": [
       "<div>\n",
       "<style scoped>\n",
       "    .dataframe tbody tr th:only-of-type {\n",
       "        vertical-align: middle;\n",
       "    }\n",
       "\n",
       "    .dataframe tbody tr th {\n",
       "        vertical-align: top;\n",
       "    }\n",
       "\n",
       "    .dataframe thead th {\n",
       "        text-align: right;\n",
       "    }\n",
       "</style>\n",
       "<table border=\"1\" class=\"dataframe\">\n",
       "  <thead>\n",
       "    <tr style=\"text-align: right;\">\n",
       "      <th></th>\n",
       "      <th>pca0</th>\n",
       "      <th>pca1</th>\n",
       "      <th>pca2</th>\n",
       "      <th>pca3</th>\n",
       "      <th>pca4</th>\n",
       "      <th>pca5</th>\n",
       "      <th>pca6</th>\n",
       "      <th>pca7</th>\n",
       "      <th>pca8</th>\n",
       "      <th>pca9</th>\n",
       "      <th>...</th>\n",
       "      <th>grp40</th>\n",
       "      <th>grp41</th>\n",
       "      <th>grp42</th>\n",
       "      <th>grp43</th>\n",
       "      <th>grp44</th>\n",
       "      <th>grp45</th>\n",
       "      <th>grp46</th>\n",
       "      <th>grp47</th>\n",
       "      <th>grp48</th>\n",
       "      <th>grp49</th>\n",
       "    </tr>\n",
       "  </thead>\n",
       "  <tbody>\n",
       "    <tr>\n",
       "      <th>0</th>\n",
       "      <td>-1.508603e+07</td>\n",
       "      <td>-573018.614867</td>\n",
       "      <td>57685.746183</td>\n",
       "      <td>-650521.789298</td>\n",
       "      <td>-421801.577139</td>\n",
       "      <td>-357791.234921</td>\n",
       "      <td>491722.914574</td>\n",
       "      <td>700494.728980</td>\n",
       "      <td>504996.197311</td>\n",
       "      <td>-4.016240e+06</td>\n",
       "      <td>...</td>\n",
       "      <td>-2.460360e+07</td>\n",
       "      <td>-2.010908e+06</td>\n",
       "      <td>2.796613e+07</td>\n",
       "      <td>1.743904e+06</td>\n",
       "      <td>-1.091064e+07</td>\n",
       "      <td>2.242675e+06</td>\n",
       "      <td>-2.475686e+07</td>\n",
       "      <td>4.685232e+07</td>\n",
       "      <td>-1.139506e+07</td>\n",
       "      <td>6.888125e+06</td>\n",
       "    </tr>\n",
       "    <tr>\n",
       "      <th>1</th>\n",
       "      <td>-2.131931e+07</td>\n",
       "      <td>-730451.349052</td>\n",
       "      <td>42760.689456</td>\n",
       "      <td>-710564.446199</td>\n",
       "      <td>-469393.988729</td>\n",
       "      <td>-347590.673528</td>\n",
       "      <td>412821.639203</td>\n",
       "      <td>762472.641524</td>\n",
       "      <td>499498.747433</td>\n",
       "      <td>-3.775476e+06</td>\n",
       "      <td>...</td>\n",
       "      <td>1.486469e+06</td>\n",
       "      <td>1.324593e+07</td>\n",
       "      <td>1.263404e+07</td>\n",
       "      <td>7.633258e+06</td>\n",
       "      <td>5.895837e+05</td>\n",
       "      <td>-2.929417e+06</td>\n",
       "      <td>1.565505e+07</td>\n",
       "      <td>3.879774e+06</td>\n",
       "      <td>-7.191871e+05</td>\n",
       "      <td>-2.446653e+06</td>\n",
       "    </tr>\n",
       "    <tr>\n",
       "      <th>2</th>\n",
       "      <td>-2.891396e+07</td>\n",
       "      <td>-786310.308309</td>\n",
       "      <td>10106.571984</td>\n",
       "      <td>-809295.515844</td>\n",
       "      <td>-468074.317391</td>\n",
       "      <td>-355196.826444</td>\n",
       "      <td>491272.337027</td>\n",
       "      <td>748926.912399</td>\n",
       "      <td>503339.329014</td>\n",
       "      <td>-3.878444e+06</td>\n",
       "      <td>...</td>\n",
       "      <td>-8.219437e+04</td>\n",
       "      <td>-2.596314e+06</td>\n",
       "      <td>-5.038003e+05</td>\n",
       "      <td>-5.997508e+06</td>\n",
       "      <td>-1.918620e+06</td>\n",
       "      <td>-3.372705e+06</td>\n",
       "      <td>-1.555013e+05</td>\n",
       "      <td>1.573579e+05</td>\n",
       "      <td>-2.900414e+06</td>\n",
       "      <td>-8.553912e+05</td>\n",
       "    </tr>\n",
       "  </tbody>\n",
       "</table>\n",
       "<p>3 rows × 700 columns</p>\n",
       "</div>"
      ],
      "text/plain": [
       "           pca0           pca1          pca2           pca3           pca4  \\\n",
       "0 -1.508603e+07 -573018.614867  57685.746183 -650521.789298 -421801.577139   \n",
       "1 -2.131931e+07 -730451.349052  42760.689456 -710564.446199 -469393.988729   \n",
       "2 -2.891396e+07 -786310.308309  10106.571984 -809295.515844 -468074.317391   \n",
       "\n",
       "            pca5           pca6           pca7           pca8          pca9  \\\n",
       "0 -357791.234921  491722.914574  700494.728980  504996.197311 -4.016240e+06   \n",
       "1 -347590.673528  412821.639203  762472.641524  499498.747433 -3.775476e+06   \n",
       "2 -355196.826444  491272.337027  748926.912399  503339.329014 -3.878444e+06   \n",
       "\n",
       "       ...              grp40         grp41         grp42         grp43  \\\n",
       "0      ...      -2.460360e+07 -2.010908e+06  2.796613e+07  1.743904e+06   \n",
       "1      ...       1.486469e+06  1.324593e+07  1.263404e+07  7.633258e+06   \n",
       "2      ...      -8.219437e+04 -2.596314e+06 -5.038003e+05 -5.997508e+06   \n",
       "\n",
       "          grp44         grp45         grp46         grp47         grp48  \\\n",
       "0 -1.091064e+07  2.242675e+06 -2.475686e+07  4.685232e+07 -1.139506e+07   \n",
       "1  5.895837e+05 -2.929417e+06  1.565505e+07  3.879774e+06 -7.191871e+05   \n",
       "2 -1.918620e+06 -3.372705e+06 -1.555013e+05  1.573579e+05 -2.900414e+06   \n",
       "\n",
       "          grp49  \n",
       "0  6.888125e+06  \n",
       "1 -2.446653e+06  \n",
       "2 -8.553912e+05  \n",
       "\n",
       "[3 rows x 700 columns]"
      ]
     },
     "execution_count": 22,
     "metadata": {},
     "output_type": "execute_result"
    }
   ],
   "source": [
    "train_space_reduction.head(3)"
   ]
  },
  {
   "cell_type": "code",
   "execution_count": 23,
   "metadata": {},
   "outputs": [
    {
     "data": {
      "text/html": [
       "<div>\n",
       "<style scoped>\n",
       "    .dataframe tbody tr th:only-of-type {\n",
       "        vertical-align: middle;\n",
       "    }\n",
       "\n",
       "    .dataframe tbody tr th {\n",
       "        vertical-align: top;\n",
       "    }\n",
       "\n",
       "    .dataframe thead th {\n",
       "        text-align: right;\n",
       "    }\n",
       "</style>\n",
       "<table border=\"1\" class=\"dataframe\">\n",
       "  <thead>\n",
       "    <tr style=\"text-align: right;\">\n",
       "      <th></th>\n",
       "      <th>pca0</th>\n",
       "      <th>pca1</th>\n",
       "      <th>pca2</th>\n",
       "      <th>pca3</th>\n",
       "      <th>pca4</th>\n",
       "      <th>pca5</th>\n",
       "      <th>pca6</th>\n",
       "      <th>pca7</th>\n",
       "      <th>pca8</th>\n",
       "      <th>pca9</th>\n",
       "      <th>...</th>\n",
       "      <th>grp40</th>\n",
       "      <th>grp41</th>\n",
       "      <th>grp42</th>\n",
       "      <th>grp43</th>\n",
       "      <th>grp44</th>\n",
       "      <th>grp45</th>\n",
       "      <th>grp46</th>\n",
       "      <th>grp47</th>\n",
       "      <th>grp48</th>\n",
       "      <th>grp49</th>\n",
       "    </tr>\n",
       "  </thead>\n",
       "  <tbody>\n",
       "    <tr>\n",
       "      <th>0</th>\n",
       "      <td>-2.037303e+07</td>\n",
       "      <td>-8.790100e+05</td>\n",
       "      <td>-357441.425457</td>\n",
       "      <td>-5.315787e+05</td>\n",
       "      <td>791866.457126</td>\n",
       "      <td>-3.515507e+05</td>\n",
       "      <td>95661.115141</td>\n",
       "      <td>523455.910350</td>\n",
       "      <td>446759.612164</td>\n",
       "      <td>-3.382357e+06</td>\n",
       "      <td>...</td>\n",
       "      <td>2.221898e+08</td>\n",
       "      <td>-1.124679e+08</td>\n",
       "      <td>-7.181361e+07</td>\n",
       "      <td>-1.585694e+08</td>\n",
       "      <td>1.052468e+08</td>\n",
       "      <td>-4.459739e+07</td>\n",
       "      <td>2.782583e+08</td>\n",
       "      <td>-1.244453e+08</td>\n",
       "      <td>3.098919e+07</td>\n",
       "      <td>8.840486e+07</td>\n",
       "    </tr>\n",
       "    <tr>\n",
       "      <th>1</th>\n",
       "      <td>-3.084624e+07</td>\n",
       "      <td>-7.739477e+05</td>\n",
       "      <td>3205.690104</td>\n",
       "      <td>-7.957675e+05</td>\n",
       "      <td>-471353.891777</td>\n",
       "      <td>-3.340123e+05</td>\n",
       "      <td>447083.962712</td>\n",
       "      <td>761726.456722</td>\n",
       "      <td>503105.547690</td>\n",
       "      <td>-3.822216e+06</td>\n",
       "      <td>...</td>\n",
       "      <td>2.706779e+06</td>\n",
       "      <td>4.108811e+05</td>\n",
       "      <td>-4.746959e+06</td>\n",
       "      <td>3.119373e+06</td>\n",
       "      <td>-7.279593e+06</td>\n",
       "      <td>1.191656e+06</td>\n",
       "      <td>-3.602817e+06</td>\n",
       "      <td>6.099906e+06</td>\n",
       "      <td>2.594159e+06</td>\n",
       "      <td>-3.508032e+06</td>\n",
       "    </tr>\n",
       "    <tr>\n",
       "      <th>2</th>\n",
       "      <td>-2.330157e+07</td>\n",
       "      <td>-1.096363e+06</td>\n",
       "      <td>-21789.269278</td>\n",
       "      <td>-1.411854e+06</td>\n",
       "      <td>-939358.460252</td>\n",
       "      <td>2.307687e+06</td>\n",
       "      <td>214006.579221</td>\n",
       "      <td>244931.112407</td>\n",
       "      <td>258829.644561</td>\n",
       "      <td>-3.112630e+06</td>\n",
       "      <td>...</td>\n",
       "      <td>-1.592457e+07</td>\n",
       "      <td>-1.687704e+07</td>\n",
       "      <td>2.441389e+07</td>\n",
       "      <td>-3.193522e+06</td>\n",
       "      <td>1.910976e+06</td>\n",
       "      <td>9.466727e+06</td>\n",
       "      <td>1.082744e+07</td>\n",
       "      <td>2.659513e+06</td>\n",
       "      <td>-1.493686e+06</td>\n",
       "      <td>1.591741e+07</td>\n",
       "    </tr>\n",
       "  </tbody>\n",
       "</table>\n",
       "<p>3 rows × 700 columns</p>\n",
       "</div>"
      ],
      "text/plain": [
       "           pca0          pca1           pca2          pca3           pca4  \\\n",
       "0 -2.037303e+07 -8.790100e+05 -357441.425457 -5.315787e+05  791866.457126   \n",
       "1 -3.084624e+07 -7.739477e+05    3205.690104 -7.957675e+05 -471353.891777   \n",
       "2 -2.330157e+07 -1.096363e+06  -21789.269278 -1.411854e+06 -939358.460252   \n",
       "\n",
       "           pca5           pca6           pca7           pca8          pca9  \\\n",
       "0 -3.515507e+05   95661.115141  523455.910350  446759.612164 -3.382357e+06   \n",
       "1 -3.340123e+05  447083.962712  761726.456722  503105.547690 -3.822216e+06   \n",
       "2  2.307687e+06  214006.579221  244931.112407  258829.644561 -3.112630e+06   \n",
       "\n",
       "       ...              grp40         grp41         grp42         grp43  \\\n",
       "0      ...       2.221898e+08 -1.124679e+08 -7.181361e+07 -1.585694e+08   \n",
       "1      ...       2.706779e+06  4.108811e+05 -4.746959e+06  3.119373e+06   \n",
       "2      ...      -1.592457e+07 -1.687704e+07  2.441389e+07 -3.193522e+06   \n",
       "\n",
       "          grp44         grp45         grp46         grp47         grp48  \\\n",
       "0  1.052468e+08 -4.459739e+07  2.782583e+08 -1.244453e+08  3.098919e+07   \n",
       "1 -7.279593e+06  1.191656e+06 -3.602817e+06  6.099906e+06  2.594159e+06   \n",
       "2  1.910976e+06  9.466727e+06  1.082744e+07  2.659513e+06 -1.493686e+06   \n",
       "\n",
       "          grp49  \n",
       "0  8.840486e+07  \n",
       "1 -3.508032e+06  \n",
       "2  1.591741e+07  \n",
       "\n",
       "[3 rows x 700 columns]"
      ]
     },
     "execution_count": 23,
     "metadata": {},
     "output_type": "execute_result"
    }
   ],
   "source": [
    "test_space_reduction.head(3)"
   ]
  },
  {
   "cell_type": "code",
   "execution_count": 24,
   "metadata": {
    "collapsed": true
   },
   "outputs": [],
   "source": [
    "train_space_reduction.to_csv(os.path.join(PATH_TO_DATA, 'train_space_reduction_50comp.csv'), index=False)\n",
    "test_space_reduction.to_csv(os.path.join(PATH_TO_DATA, 'test_space_reduction_50comp.csv'), index=False)"
   ]
  }
 ],
 "metadata": {
  "kernelspec": {
   "display_name": "Python 3",
   "language": "python",
   "name": "python3"
  },
  "language_info": {
   "codemirror_mode": {
    "name": "ipython",
    "version": 3
   },
   "file_extension": ".py",
   "mimetype": "text/x-python",
   "name": "python",
   "nbconvert_exporter": "python",
   "pygments_lexer": "ipython3",
   "version": "3.6.3"
  }
 },
 "nbformat": 4,
 "nbformat_minor": 2
}
